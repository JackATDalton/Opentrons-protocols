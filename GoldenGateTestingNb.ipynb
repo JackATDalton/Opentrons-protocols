{
 "cells": [
  {
   "cell_type": "markdown",
   "id": "54ecbe5e",
   "metadata": {},
   "source": [
    "<h1>Golden Gate Cloning</h1>"
   ]
  },
  {
   "cell_type": "markdown",
   "id": "6f89741d",
   "metadata": {},
   "source": [
    "This first block will be a basic GG protocol to test GG assembly in the opentrons. Later we will generate 96 random constructs to express one of the target genes. "
   ]
  },
  {
   "cell_type": "code",
   "execution_count": null,
   "id": "170892a3",
   "metadata": {},
   "outputs": [
    {
     "name": "stdout",
     "output_type": "stream",
     "text": [
      "{'A1': 'C3m', 'A2': 'P1d', 'A3': 'P1m', 'A4': 'P2d', 'A5': 'P3d', 'A6': 'P3m', 'A7': 'P4d', 'A8': 'P4m', 'A9': 'P5d', 'A10': 'P6d', 'A11': 'P7d', 'A12': 'P8d', 'B1': 'P9d', 'B2': 'P9m', 'B3': 'P10d', 'B4': 'P12m', 'B5': 'P15m', 'B6': 'P16m', 'B7': 'P18m', 'B8': 'P30m', 'B9': 'P32m', 'B10': 'P33m', 'B11': 'P34m', 'B12': 'P35m', 'C1': 'P37m', 'C2': 'P38m', 'C3': 'P57m', 'C4': 'P58m', 'C5': 'P59m', 'C6': 'P60m', 'C7': 'P61m', 'C8': 'P66m', 'C9': 'T1d', 'C10': 'T1m', 'C11': 'T2m', 'C12': 'T7m', 'D1': 'T12m', 'D2': 'T13m', 'D3': 'T14m', 'D4': 'T15m', 'D5': 'T16m', 'D6': 'T17m', 'D7': 'T18m', 'D8': 'U1d', 'D9': 'U2d', 'D10': 'U2m', 'D11': 'U3d', 'D12': 'U3m', 'E1': 'U4d', 'E2': 'U4m', 'E3': 'U5d', 'E4': 'U5m', 'E5': 'U6d', 'E6': 'U6m', 'E7': 'U7m', 'E8': 'U8m', 'E9': 'U9m', 'E10': 'U17m', 'E11': 'U19m', 'E12': 'U22m', 'F1': 'U24m', 'F2': 'U25m', 'F3': 'V7d', 'F4': 'V37m'}\n"
     ]
    }
   ],
   "source": [
    "import pandas as pd\n",
    "\n",
    "# Load the CSV file\n",
    "df = pd.read_csv(\"PlateLayout362025.csv\")\n",
    "# Convert to dictionary\n",
    "part_dict = dict(zip(df[\"well\"], df[\"name\"]))\n",
    "\n",
    "# Preview it\n",
    "\n",
    "print(part_dict)\n",
    "\n"
   ]
  },
  {
   "cell_type": "code",
   "execution_count": null,
   "id": "4d6399bc",
   "metadata": {},
   "outputs": [],
   "source": [
    "from opentrons import protocol_api\n",
    "metadata = {\n",
    "    'protocolName': 'GG test',\n",
    "    'description': 'Test protocol for GG assembly',\n",
    "    'author': 'JATD'\n",
    "    }\n",
    "\n",
    "requirements = {\n",
    "    \"robotType\": \"Flex\",\n",
    "    \"apiLevel\": \"2.23\",\n",
    "}\n",
    "\n",
    "def run(protocol: protocol_api.ProtocolContext):\n",
    "    # load part dictionary\n",
    "    part_dict = {'A1': 'C3m', 'A2': 'P1d', 'A3': 'P1m', 'A4': 'P2d', 'A5': 'P3d', 'A6': 'P3m', 'A7': 'P4d', 'A8': 'P4m', 'A9': 'P5d', 'A10': 'P6d', 'A11': 'P7d', 'A12': 'P8d', 'B1': 'P9d', 'B2': 'P9m', 'B3': 'P10d', 'B4': 'P12m', 'B5': 'P15m', 'B6': 'P16m', 'B7': 'P18m', 'B8': 'P30m', 'B9': 'P32m', 'B10': 'P33m', 'B11': 'P34m', 'B12': 'P35m', 'C1': 'P37m', 'C2': 'P38m', 'C3': 'P57m', 'C4': 'P58m', 'C5': 'P59m', 'C6': 'P60m', 'C7': 'P61m', 'C8': 'P66m', 'C9': 'T1d', 'C10': 'T1m', 'C11': 'T2m', 'C12': 'T7m', 'D1': 'T12m', 'D2': 'T13m', 'D3': 'T14m', 'D4': 'T15m', 'D5': 'T16m', 'D6': 'T17m', 'D7': 'T18m', 'D8': 'U1d', 'D9': 'U2d', 'D10': 'U2m', 'D11': 'U3d', 'D12': 'U3m', 'E1': 'U4d', 'E2': 'U4m', 'E3': 'U5d', 'E4': 'U5m', 'E5': 'U6d', 'E6': 'U6m', 'E7': 'U7m', 'E8': 'U8m', 'E9': 'U9m', 'E10': 'U17m', 'E11': 'U19m', 'E12': 'U22m', 'F1': 'U24m', 'F2': 'U25m', 'F3': 'V7d', 'F4': 'V37m'}\n",
    "    \n",
    "    # Load labware\n",
    "    tips = protocol.load_labware(\"opentrons_flex_96_tiprack_50ul\", \"C2\") \n",
    "    #tubes containing GG assembly mix\n",
    "    tubes = protocol.load_labware(\"opentrons_24_tuberack_eppendorf_1.5ml_safelock_snapcap\", \"D2\") \n",
    "    trash = protocol.load_trash_bin(\"A3\")\n",
    "    # Load the plate with parts\n",
    "    part_plate = protocol.load_labware(\"corning_96_wellplate_360ul_flat\", \"C1\")\n",
    "    # Load the thermocycler module\n",
    "    thermocycler = protocol.load_module(\"thermocycler module\", \"A1\")\n",
    "    assembly_plate = thermocycler.load_labware(\"corning_96_wellplate_360ul_flat\")\n",
    "\n",
    "    "
   ]
  }
 ],
 "metadata": {
  "kernelspec": {
   "display_name": "opentrons",
   "language": "python",
   "name": "python3"
  },
  "language_info": {
   "codemirror_mode": {
    "name": "ipython",
    "version": 3
   },
   "file_extension": ".py",
   "mimetype": "text/x-python",
   "name": "python",
   "nbconvert_exporter": "python",
   "pygments_lexer": "ipython3",
   "version": "3.10.17"
  }
 },
 "nbformat": 4,
 "nbformat_minor": 5
}
