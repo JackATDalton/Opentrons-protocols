{
 "cells": [
  {
   "cell_type": "markdown",
   "id": "54ecbe5e",
   "metadata": {},
   "source": [
    "<h1>Golden Gate Cloning</h1>\n"
   ]
  },
  {
   "cell_type": "code",
   "execution_count": null,
   "id": "170892a3",
   "metadata": {},
   "outputs": [],
   "source": [
    "from opentrons import protocol_api\n",
    "metadata = {\n",
    "    \"protocolName\": \"96 well plate golden gate assembly\",\n",
    "    \"description\": \"Performs golden gate assembly in a 96 well plate for a predefined set of combinations of parts. You'll need to define your combinations in advance\",\n",
    "    \"author\": \"JATD\"\n",
    "}\n",
    "\n",
    "requirements = {\n",
    "    \"robotType\": \"Flex\", # Ensure the robot type is Flex,\n",
    "    \"apiLevel\": \"2.23\",\n",
    "    }\n",
    "\n",
    "\n",
    "def run(protocol: protocol_api.ProtocolContext):\n",
    "    tips = protocol.load_labware(\"opentrons_flex_96_tiprack_50ul\", \"C2\")\n",
    "    tubes = protocol.load_labware(\"opentrons_24_tuberack_eppendorf_1.5ml_safelock_snapcap\", \"D2\")\n",
    "    trash = protocol.load_trash_bin(\"A3\")\n",
    "\n",
    "    thermocycler = protocol.load_module(\"thermocycler\", \"A1\")\n",
    "    thermocycler_plate = thermocycler.load_labware(\"nest_96_wellplate_100ul_pcr_full_skirt\")\n",
    "    thermocycler.open_lid()\n",
    "\n"
   ]
  }
 ],
 "metadata": {
  "language_info": {
   "name": "python"
  }
 },
 "nbformat": 4,
 "nbformat_minor": 5
}
